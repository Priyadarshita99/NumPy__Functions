{
 "cells": [
  {
   "cell_type": "code",
   "execution_count": 1,
   "id": "91bd12b8-76cc-4438-8ac5-17f9c05b8d24",
   "metadata": {},
   "outputs": [],
   "source": [
    "import numpy as np"
   ]
  },
  {
   "cell_type": "markdown",
   "id": "359bd29e-ebef-4131-9e39-e7f61e4c3c75",
   "metadata": {},
   "source": [
    "# 1.Create ndarray:-"
   ]
  },
  {
   "cell_type": "code",
   "execution_count": 3,
   "id": "4ee095c2-0f1a-460f-9ea7-4b67af8d4bb1",
   "metadata": {},
   "outputs": [
    {
     "name": "stdout",
     "output_type": "stream",
     "text": [
      "54 <class 'numpy.ndarray'> 0\n",
      "[1 2 3] <class 'numpy.ndarray'> 1\n",
      "[[1 2 3]\n",
      " [4 5 6]] <class 'numpy.ndarray'> 2\n",
      "[[[1 2 3]\n",
      "  [4 5 6]]\n",
      "\n",
      " [[3 2 1]\n",
      "  [7 8 9]]] <class 'numpy.ndarray'> 3\n"
     ]
    }
   ],
   "source": [
    "a=np.array(54)\n",
    "print(a,type(a),a.ndim)\n",
    "#O/p- 54 <class 'numpy.ndarray'> 0\n",
    "\n",
    "b=np.array([1,2,3])\n",
    "print(b,type(b),b.ndim)\n",
    "\n",
    "c=np.array([[1,2,3],[4,5,6]])\n",
    "print(c,type(c),c.ndim)\n",
    "\n",
    "#O/p-\n",
    "#[[1 2 3]\n",
    " #[4 5 6]] <class 'numpy.ndarray'> 2\n",
    "\n",
    "d=np.array([[[1,2,3],[4,5,6]],[[3,2,1],[7,8,9]]])\n",
    "print(d,type(d),d.ndim)"
   ]
  },
  {
   "cell_type": "markdown",
   "id": "80af5b21-fd24-4906-bb8a-d16dfec0020e",
   "metadata": {},
   "source": [
    "# 2.Function by which we can convert datatype:-"
   ]
  },
  {
   "cell_type": "markdown",
   "id": "e19e4e15-20b5-497d-874b-da5384f1d564",
   "metadata": {},
   "source": [
    "## asarray() -- asarray(input,dtype,order)\n",
    "#### input=list or tuple or any combination\n",
    "#### dtype= our required datatype like int,float,S1 (string byte)\n",
    "#### order=Row major-'C' or'c' (default)\n",
    "#### order=Column major-'F' or 'f'\n"
   ]
  },
  {
   "cell_type": "code",
   "execution_count": 4,
   "id": "7e6bb459-84e9-463b-ac44-aa9328e6e1ad",
   "metadata": {},
   "outputs": [],
   "source": [
    "import numpy as np"
   ]
  },
  {
   "cell_type": "code",
   "execution_count": 6,
   "id": "b1f5857f-fc86-4088-8650-642e3dff23d4",
   "metadata": {},
   "outputs": [],
   "source": [
    "l=[[10,20,30],[40,50,60]]"
   ]
  },
  {
   "cell_type": "code",
   "execution_count": 15,
   "id": "0b5638f8-7bf2-4e43-8323-f6eb972c2d6d",
   "metadata": {},
   "outputs": [
    {
     "name": "stdout",
     "output_type": "stream",
     "text": [
      "[[10 20 30]\n",
      " [40 50 60]]\n"
     ]
    }
   ],
   "source": [
    "a=np.asarray(l,dtype='int',order='f')\n",
    "print(a)"
   ]
  },
  {
   "cell_type": "code",
   "execution_count": 16,
   "id": "3f1b70c3-f762-4252-bd28-298b2a105e2d",
   "metadata": {},
   "outputs": [
    {
     "name": "stdout",
     "output_type": "stream",
     "text": [
      "10\n",
      "40\n",
      "20\n",
      "50\n",
      "30\n",
      "60\n"
     ]
    }
   ],
   "source": [
    "for i in np.nditer(a):\n",
    "    print(i)"
   ]
  },
  {
   "cell_type": "markdown",
   "id": "4f92725c-45d7-4afd-a883-90457f20628c",
   "metadata": {},
   "source": [
    "## frombuffer() -- frombuffer(buffer,dtype,count,offset)\r",
    "### buffert=list or tuple or any combinatio\n",
    "### \r\n",
    "dtype= our required datatype like int,float,S1 (string byt\n",
    "### count=-1()default value ----can resist the data length\n",
    "offset=0 (default value) ---from which position we need to start'f'¶"
   ]
  },
  {
   "cell_type": "code",
   "execution_count": 23,
   "id": "4353b554-c820-4959-9e4b-b954215b2f6e",
   "metadata": {},
   "outputs": [
    {
     "name": "stdout",
     "output_type": "stream",
     "text": [
      "b'\\x01\\x02\\x03\\x04\\x05'\n"
     ]
    }
   ],
   "source": [
    "my_list = [1, 2, 3, 4, 5]\n",
    "\n",
    "# Convert list to bytes\n",
    "byte_data = bytes(my_list)\n",
    "print(byte_data)"
   ]
  },
  {
   "cell_type": "code",
   "execution_count": 27,
   "id": "4c821766-64ea-451e-9bbd-27eb384cfc14",
   "metadata": {},
   "outputs": [
    {
     "name": "stdout",
     "output_type": "stream",
     "text": [
      "[b' ' b'y' b'a']\n"
     ]
    }
   ],
   "source": [
    "s=b'pri ya'\n",
    "a=np.frombuffer(s,dtype='S1',count=3,offset=3)\n",
    "print(a)"
   ]
  },
  {
   "cell_type": "markdown",
   "id": "5dd36a13-2f77-4bd8-bd69-1f4b7fe8643c",
   "metadata": {},
   "source": [
    "## fromiter()--- fromiter(iterable,dtype,count)"
   ]
  },
  {
   "cell_type": "code",
   "execution_count": 29,
   "id": "011f8c65-2484-4fee-97a0-56c20e478cde",
   "metadata": {},
   "outputs": [],
   "source": [
    "import numpy as np"
   ]
  },
  {
   "cell_type": "code",
   "execution_count": 34,
   "id": "4bd68d4a-b371-44d9-b548-dd85b9c79113",
   "metadata": {},
   "outputs": [
    {
     "name": "stdout",
     "output_type": "stream",
     "text": [
      "[10. 20.]\n"
     ]
    }
   ],
   "source": [
    "t=(10,20,30)\n",
    "a=np.fromiter(t,dtype='float',count=2)\n",
    "print(a)"
   ]
  },
  {
   "cell_type": "markdown",
   "id": "5e338fea-d538-46f7-8776-cdcc13bf368b",
   "metadata": {},
   "source": [
    "# 3.Create an array with numerical range:-\n",
    "### arange()---arange(startindex, stop index, step size, dtype)"
   ]
  },
  {
   "cell_type": "code",
   "execution_count": 38,
   "id": "d26a924b-d9a5-4ea0-bdc7-2349478aa0fd",
   "metadata": {},
   "outputs": [
    {
     "name": "stdout",
     "output_type": "stream",
     "text": [
      "[0 2 4 6 8]\n"
     ]
    }
   ],
   "source": [
    "import numpy as np\n",
    "print(np.arange(0,10,2,dtype='int'))"
   ]
  },
  {
   "cell_type": "code",
   "execution_count": 52,
   "id": "2dd3eb92-389d-4b42-9d04-d3cd6dd4b032",
   "metadata": {},
   "outputs": [
    {
     "data": {
      "text/plain": [
       "array([0., 2., 4., 6., 8.])"
      ]
     },
     "execution_count": 52,
     "metadata": {},
     "output_type": "execute_result"
    }
   ],
   "source": [
    "np.arange(0,10,2,dtype='float')"
   ]
  },
  {
   "cell_type": "code",
   "execution_count": 53,
   "id": "b3289a2c-5b15-4713-8efc-ce440b32d663",
   "metadata": {},
   "outputs": [
    {
     "name": "stdout",
     "output_type": "stream",
     "text": [
      "[0. 2. 4. 6. 8.]\n"
     ]
    }
   ],
   "source": [
    "a=np.arange(0,10,2,dtype='float')\n",
    "print(a)"
   ]
  },
  {
   "cell_type": "markdown",
   "id": "80aab898-49e4-484d-b51d-43f686e6a8fd",
   "metadata": {},
   "source": [
    "## linespace()---linsespace(start index, stop index,number,endpoint,retstep,dtype)"
   ]
  },
  {
   "cell_type": "code",
   "execution_count": 46,
   "id": "53f139e8-e080-4db6-b16f-3a33ed17266f",
   "metadata": {},
   "outputs": [
    {
     "name": "stdout",
     "output_type": "stream",
     "text": [
      "[0 2 5 7]\n"
     ]
    }
   ],
   "source": [
    "print(np.linspace(0,10,4,endpoint=False,retstep=False,dtype='int'))"
   ]
  },
  {
   "cell_type": "code",
   "execution_count": 50,
   "id": "f0bc5f9e-7577-4d86-8d6b-dc6d98909168",
   "metadata": {},
   "outputs": [
    {
     "name": "stdout",
     "output_type": "stream",
     "text": [
      "(array([0, 2, 5, 7]), 2.5)\n"
     ]
    }
   ],
   "source": [
    "print(np.linspace(0,10,4,endpoint=False,retstep=True,dtype='int'))"
   ]
  },
  {
   "cell_type": "code",
   "execution_count": 54,
   "id": "2ea44287-d355-4784-a6a1-1cbad7a36d3a",
   "metadata": {},
   "outputs": [
    {
     "name": "stdout",
     "output_type": "stream",
     "text": [
      "(array([0. , 2.5, 5. , 7.5]), 2.5)\n"
     ]
    }
   ],
   "source": [
    "a=np.linspace(0,10,4,endpoint=False,retstep=True,dtype='float')\n",
    "print(a)"
   ]
  },
  {
   "cell_type": "code",
   "execution_count": 55,
   "id": "1157aca9-8105-4299-b7b1-5ac45ca0ac3d",
   "metadata": {},
   "outputs": [
    {
     "name": "stdout",
     "output_type": "stream",
     "text": [
      "(array([0, 0, 0, 0, 0, 1, 1, 1, 1, 1, 2, 2, 2, 2, 2, 3, 3, 3, 3, 3, 4, 4,\n",
      "       4, 4, 4, 5, 5, 5, 5, 5, 6, 6, 6, 6, 6, 7, 7, 7, 7, 7, 8, 8, 8, 8,\n",
      "       8, 9, 9, 9, 9, 9]), 0.2)\n"
     ]
    }
   ],
   "source": [
    "b=np.linspace(0,10,endpoint=False,retstep=True,dtype='int')\n",
    "print(b)"
   ]
  },
  {
   "cell_type": "code",
   "execution_count": 56,
   "id": "57c7f7c7-7ff4-4eda-a635-4efc82f00b7d",
   "metadata": {},
   "outputs": [
    {
     "name": "stdout",
     "output_type": "stream",
     "text": [
      "50\n"
     ]
    }
   ],
   "source": [
    "l=[0, 0, 0, 0, 0, 1, 1, 1, 1, 1, 2, 2, 2, 2, 2, 3, 3, 3, 3, 3, 4, 4,\n",
    "       4, 4, 4, 5, 5, 5, 5, 5, 6, 6, 6, 6, 6, 7, 7, 7, 7, 7, 8, 8, 8, 8,\n",
    "       8, 9, 9, 9, 9, 9]\n",
    "print(len(l))"
   ]
  },
  {
   "cell_type": "code",
   "execution_count": 57,
   "id": "3b06cef6-574c-4a3b-ae24-4fcf52af6968",
   "metadata": {},
   "outputs": [
    {
     "name": "stdout",
     "output_type": "stream",
     "text": [
      "[ 0.          0.20408163  0.40816327  0.6122449   0.81632653  1.02040816\n",
      "  1.2244898   1.42857143  1.63265306  1.83673469  2.04081633  2.24489796\n",
      "  2.44897959  2.65306122  2.85714286  3.06122449  3.26530612  3.46938776\n",
      "  3.67346939  3.87755102  4.08163265  4.28571429  4.48979592  4.69387755\n",
      "  4.89795918  5.10204082  5.30612245  5.51020408  5.71428571  5.91836735\n",
      "  6.12244898  6.32653061  6.53061224  6.73469388  6.93877551  7.14285714\n",
      "  7.34693878  7.55102041  7.75510204  7.95918367  8.16326531  8.36734694\n",
      "  8.57142857  8.7755102   8.97959184  9.18367347  9.3877551   9.59183673\n",
      "  9.79591837 10.        ]\n"
     ]
    }
   ],
   "source": [
    "print(np.linspace(0,10))"
   ]
  },
  {
   "cell_type": "markdown",
   "id": "a21e94ef-a58d-4f48-87b9-a6008e6c03af",
   "metadata": {},
   "source": [
    "## logspace()--- logspace(start index, stop index,number,endpoint,base,dtype)\n",
    "base=base of log value (default=10)"
   ]
  },
  {
   "cell_type": "code",
   "execution_count": 66,
   "id": "0cb3a843-40fa-441f-844e-3b5904b533b8",
   "metadata": {},
   "outputs": [
    {
     "name": "stdout",
     "output_type": "stream",
     "text": [
      "[  1   5  32 181]\n"
     ]
    }
   ],
   "source": [
    "a=np.logspace(0,10,4,endpoint=False,base=2,dtype='int')\n",
    "print(a)"
   ]
  },
  {
   "cell_type": "markdown",
   "id": "5461b94c-9240-4485-9ef9-3a4ad77f7c05",
   "metadata": {},
   "source": [
    "# 4.Initialising array in NumPy:-"
   ]
  },
  {
   "cell_type": "code",
   "execution_count": 71,
   "id": "8563cd90-d4c8-472b-955e-a0897a9ad467",
   "metadata": {},
   "outputs": [
    {
     "name": "stdout",
     "output_type": "stream",
     "text": [
      "(2, 4)\n"
     ]
    }
   ],
   "source": [
    "a=[[1,2,3,4],[3,4,5,6]]\n",
    "print(np.shape(a))"
   ]
  },
  {
   "cell_type": "code",
   "execution_count": 77,
   "id": "c81a72be-37e2-4932-b335-c8faf5d495f8",
   "metadata": {},
   "outputs": [
    {
     "name": "stdout",
     "output_type": "stream",
     "text": [
      "(2, 3)\n"
     ]
    }
   ],
   "source": [
    "b=[[1,2,4],[3,5,6]]\n",
    "print(np.shape(b))"
   ]
  },
  {
   "cell_type": "code",
   "execution_count": 78,
   "id": "acc4b0fc-127f-42c1-88ea-920d4fdaf130",
   "metadata": {},
   "outputs": [
    {
     "name": "stdout",
     "output_type": "stream",
     "text": [
      "[[1 2]\n",
      " [4 3]\n",
      " [5 6]]\n"
     ]
    }
   ],
   "source": [
    "print(np.reshape(b,(3,2)))"
   ]
  },
  {
   "cell_type": "code",
   "execution_count": 81,
   "id": "1f1ca7c5-537c-4cae-9db9-3da91bed4148",
   "metadata": {},
   "outputs": [],
   "source": [
    "#print(np.reshape(b,(3,3)))   ---- raise an error"
   ]
  },
  {
   "cell_type": "code",
   "execution_count": 84,
   "id": "b51f5d44-b308-4854-b3ec-28fa5c780cfa",
   "metadata": {},
   "outputs": [
    {
     "name": "stdout",
     "output_type": "stream",
     "text": [
      "[[0 0 0]\n",
      " [0 0 0]]\n"
     ]
    }
   ],
   "source": [
    "print(np.zeros((2,3),dtype='int'))"
   ]
  },
  {
   "cell_type": "code",
   "execution_count": 85,
   "id": "a96a6d43-ca46-4b3b-be79-daeb3aedbfbb",
   "metadata": {},
   "outputs": [
    {
     "name": "stdout",
     "output_type": "stream",
     "text": [
      "[[1 1 1]\n",
      " [1 1 1]]\n"
     ]
    }
   ],
   "source": [
    "print(np.ones((2,3),dtype='int'))"
   ]
  },
  {
   "cell_type": "code",
   "execution_count": 86,
   "id": "daf9b3c6-bae9-4280-973b-093e4f2f6426",
   "metadata": {},
   "outputs": [
    {
     "name": "stdout",
     "output_type": "stream",
     "text": [
      "[[20 20 20]\n",
      " [20 20 20]]\n"
     ]
    }
   ],
   "source": [
    "print(np.full((2,3),20))"
   ]
  },
  {
   "cell_type": "code",
   "execution_count": 94,
   "id": "d042f257-4303-43eb-82f5-be0783e83801",
   "metadata": {},
   "outputs": [
    {
     "name": "stdout",
     "output_type": "stream",
     "text": [
      "[[1 0 0 0]\n",
      " [0 1 0 0]\n",
      " [0 0 1 0]\n",
      " [0 0 0 1]]\n"
     ]
    }
   ],
   "source": [
    "print(np.eye((4),dtype='int'))"
   ]
  },
  {
   "cell_type": "markdown",
   "id": "24db3740-8cd4-405c-82c5-e67a46daef54",
   "metadata": {},
   "source": [
    "# 5.Accessing the elements of ndarray:-"
   ]
  },
  {
   "cell_type": "code",
   "execution_count": 98,
   "id": "b03f6f61-e6eb-4268-88d1-37eea7923b91",
   "metadata": {},
   "outputs": [
    {
     "name": "stdout",
     "output_type": "stream",
     "text": [
      "[1 2 3]\n",
      "****\n",
      "3\n"
     ]
    }
   ],
   "source": [
    "# 1-D array\n",
    "a=np.array([1,2,3])\n",
    "print(a)\n",
    "print('****')\n",
    "print(a[-1])"
   ]
  },
  {
   "cell_type": "code",
   "execution_count": 102,
   "id": "10891d93-721a-4ac6-8dfd-5f3c860c68be",
   "metadata": {},
   "outputs": [
    {
     "name": "stdout",
     "output_type": "stream",
     "text": [
      "[[1 2 3]\n",
      " [4 5 6]]\n",
      "2\n"
     ]
    }
   ],
   "source": [
    "# 2-D array\n",
    "b=np.array([[1,2,3],[4,5,6]])\n",
    "print(b)\n",
    "print(b[0,1])"
   ]
  },
  {
   "cell_type": "code",
   "execution_count": 108,
   "id": "feeebb90-b7ba-4768-8f00-cec24092e3ca",
   "metadata": {},
   "outputs": [
    {
     "name": "stdout",
     "output_type": "stream",
     "text": [
      "[[[ 1  2  3]\n",
      "  [ 4  5  6]]\n",
      "\n",
      " [[ 7  8  9]\n",
      "  [10 11 12]]]\n",
      "8\n"
     ]
    }
   ],
   "source": [
    "# 3-D array\n",
    "c=np.array([[[1,2,3],[4,5,6]],[[7,8,9],[10,11,12]]])\n",
    "print(c)\n",
    "print(c[1,0,1])"
   ]
  },
  {
   "cell_type": "markdown",
   "id": "20043caa-c03a-4681-9a6d-94c009933654",
   "metadata": {},
   "source": [
    "# 6.Slicing operation on ndarray:-"
   ]
  },
  {
   "cell_type": "code",
   "execution_count": 116,
   "id": "b5c352c5-1ff0-4d1d-af99-f69c758e9103",
   "metadata": {},
   "outputs": [
    {
     "name": "stdout",
     "output_type": "stream",
     "text": [
      "[2 4]\n"
     ]
    }
   ],
   "source": [
    "#1-D array\n",
    "a=np.array([1,2,3,4,5])\n",
    "print(a[1::2])"
   ]
  },
  {
   "cell_type": "code",
   "execution_count": 121,
   "id": "2c9ac660-aa85-4dbf-b587-bc0b34f37772",
   "metadata": {},
   "outputs": [
    {
     "name": "stdout",
     "output_type": "stream",
     "text": [
      "[4 5]\n"
     ]
    }
   ],
   "source": [
    "#2-D array\n",
    "b=np.array([[1,2,3],[4,5,6]])\n",
    "print(b[1,:2:])"
   ]
  },
  {
   "cell_type": "code",
   "execution_count": 127,
   "id": "66da17e7-8080-4521-9b7e-5d393f2d2f7e",
   "metadata": {},
   "outputs": [
    {
     "name": "stdout",
     "output_type": "stream",
     "text": [
      "[[[ 1  2  3]\n",
      "  [ 4  5  6]]\n",
      "\n",
      " [[ 7  8  9]\n",
      "  [10 11 12]]]\n",
      "****\n",
      "[1 2 3]\n",
      "[9 8 7]\n"
     ]
    }
   ],
   "source": [
    "# 3-D array\n",
    "c=np.array([[[1,2,3],[4,5,6]],[[7,8,9],[10,11,12]]])\n",
    "print(c)\n",
    "print('****')\n",
    "print(c[0,0,::])\n",
    "print(c[1,0,-1::-1])"
   ]
  },
  {
   "cell_type": "markdown",
   "id": "101d246a-0d8f-4cf5-a68b-b8cfc52c8db5",
   "metadata": {},
   "source": [
    "# 7.Axis:-"
   ]
  },
  {
   "cell_type": "code",
   "execution_count": 134,
   "id": "c1e3ff42-cf03-434b-aae1-9e3218817323",
   "metadata": {},
   "outputs": [
    {
     "name": "stdout",
     "output_type": "stream",
     "text": [
      "[[7 2 6]\n",
      " [3 5 1]]\n",
      "*****\n",
      "[[3 2 1]\n",
      " [7 5 6]]\n",
      "*****\n",
      "[[2 6 7]\n",
      " [1 3 5]]\n"
     ]
    }
   ],
   "source": [
    "a=np.array([[7,2,6],[3,5,1]])\n",
    "print(a)\n",
    "print('*****')\n",
    "print(np.sort(a,axis=0))\n",
    "print('*****')\n",
    "print(np.sort(a,axis=1))"
   ]
  },
  {
   "cell_type": "markdown",
   "id": "4a5d5fed-6f90-4ac5-b0d8-23f4f9aa8fdc",
   "metadata": {},
   "source": [
    "# 8.Datatypes used in array:-"
   ]
  },
  {
   "cell_type": "code",
   "execution_count": 138,
   "id": "fa061b48-bc64-40c4-9dfb-723095dffc3c",
   "metadata": {},
   "outputs": [
    {
     "name": "stdout",
     "output_type": "stream",
     "text": [
      "int32\n"
     ]
    }
   ],
   "source": [
    "a=np.array([1,2,3])\n",
    "print(a.dtype)"
   ]
  },
  {
   "cell_type": "code",
   "execution_count": 140,
   "id": "5f155e60-7dc4-4141-bd42-fe309c33f926",
   "metadata": {},
   "outputs": [
    {
     "name": "stdout",
     "output_type": "stream",
     "text": [
      "['1' '2' '3']\n"
     ]
    }
   ],
   "source": [
    "b=np.array([1,2,3],dtype='U')\n",
    "print(b)"
   ]
  },
  {
   "cell_type": "code",
   "execution_count": 142,
   "id": "6a8971fe-f279-4639-97b0-c9ec57698028",
   "metadata": {},
   "outputs": [
    {
     "name": "stdout",
     "output_type": "stream",
     "text": [
      "['1' '2' '3']\n",
      "[1. 2. 3.]\n"
     ]
    }
   ],
   "source": [
    "print(b)\n",
    "x=b.astype('f')\n",
    "print(x)"
   ]
  },
  {
   "cell_type": "code",
   "execution_count": 148,
   "id": "35449811-9dd7-49ea-a6d3-323bb8b38046",
   "metadata": {},
   "outputs": [
    {
     "name": "stdout",
     "output_type": "stream",
     "text": [
      "['a', 2, 3]\n"
     ]
    }
   ],
   "source": [
    "c=['a',2,3]\n",
    "print(c)"
   ]
  },
  {
   "cell_type": "code",
   "execution_count": 158,
   "id": "a4ad2042-6188-4ef4-bd1a-7e074a2ed8dc",
   "metadata": {},
   "outputs": [
    {
     "name": "stdout",
     "output_type": "stream",
     "text": [
      "[ True False  True  True  True]\n"
     ]
    }
   ],
   "source": [
    "d=np.array([1,0,22,-1,45])\n",
    "print(d.astype('bool'))"
   ]
  },
  {
   "cell_type": "code",
   "execution_count": 152,
   "id": "8dc98676-f1e9-4959-ac33-377e97e42106",
   "metadata": {},
   "outputs": [
    {
     "name": "stdout",
     "output_type": "stream",
     "text": [
      "[1 2 3] * [1 2 3]\n"
     ]
    }
   ],
   "source": [
    "# copy()-------------\n",
    "\n",
    "a=np.array([1,2,3])\n",
    "c=a.copy()\n",
    "print(a,'*',c)"
   ]
  },
  {
   "cell_type": "code",
   "execution_count": 153,
   "id": "805c457c-8282-4bd9-a943-2bf40be68dbf",
   "metadata": {},
   "outputs": [
    {
     "name": "stdout",
     "output_type": "stream",
     "text": [
      "[1 8 3] * [1 2 3]\n"
     ]
    }
   ],
   "source": [
    "c[1]=8\n",
    "print(c,'*',a)"
   ]
  },
  {
   "cell_type": "code",
   "execution_count": 155,
   "id": "7c38236e-cf4c-4ddf-899e-daaad069c7af",
   "metadata": {},
   "outputs": [
    {
     "name": "stdout",
     "output_type": "stream",
     "text": [
      "[5 6 7]\n"
     ]
    }
   ],
   "source": [
    "b=np.array([5,6,7])\n",
    "v=b.view()\n",
    "print(v)"
   ]
  },
  {
   "cell_type": "code",
   "execution_count": 157,
   "id": "6978c8a3-7111-44c9-9a9d-a21005a95b35",
   "metadata": {},
   "outputs": [
    {
     "name": "stdout",
     "output_type": "stream",
     "text": [
      "[  5 100   7] * [  5 100   7]\n"
     ]
    }
   ],
   "source": [
    "v[1]=100\n",
    "print(v,'*',b)"
   ]
  },
  {
   "cell_type": "markdown",
   "id": "ac051529-1c02-419f-8267-5544eac53d9b",
   "metadata": {},
   "source": [
    "# 9.Joining Arrays:-"
   ]
  },
  {
   "cell_type": "code",
   "execution_count": 159,
   "id": "f0e867bd-4f6a-4c71-a057-acf98ad9fdeb",
   "metadata": {},
   "outputs": [
    {
     "name": "stdout",
     "output_type": "stream",
     "text": [
      "[[0 1 2]\n",
      " [3 4 5]]\n"
     ]
    }
   ],
   "source": [
    "a=np.arange(6).reshape(2,3)\n",
    "print(a)"
   ]
  },
  {
   "cell_type": "code",
   "execution_count": 160,
   "id": "94100ac2-4257-4d9f-806a-648802a8f857",
   "metadata": {},
   "outputs": [
    {
     "name": "stdout",
     "output_type": "stream",
     "text": [
      "[[ 7  8  9]\n",
      " [10 11 12]]\n"
     ]
    }
   ],
   "source": [
    "b=np.arange(7,13).reshape(2,3)\n",
    "print(b)"
   ]
  },
  {
   "cell_type": "code",
   "execution_count": 163,
   "id": "b55b62a8-8066-493f-a216-f65fd13bebdf",
   "metadata": {},
   "outputs": [
    {
     "name": "stdout",
     "output_type": "stream",
     "text": [
      "[[ 0  1  2]\n",
      " [ 3  4  5]\n",
      " [ 7  8  9]\n",
      " [10 11 12]]\n"
     ]
    }
   ],
   "source": [
    "print(np.concatenate((a,b)))"
   ]
  },
  {
   "cell_type": "code",
   "execution_count": 164,
   "id": "de937d6c-b56e-49b8-abc3-969b9735023f",
   "metadata": {},
   "outputs": [
    {
     "name": "stdout",
     "output_type": "stream",
     "text": [
      "[[ 0  1  2  7  8  9]\n",
      " [ 3  4  5 10 11 12]]\n"
     ]
    }
   ],
   "source": [
    "print(np.concatenate((a,b),axis=1))"
   ]
  },
  {
   "cell_type": "code",
   "execution_count": 165,
   "id": "5469e2b1-85aa-426a-8f9b-980a42fe9f7e",
   "metadata": {},
   "outputs": [
    {
     "name": "stdout",
     "output_type": "stream",
     "text": [
      "[[[ 0  1  2]\n",
      "  [ 3  4  5]]\n",
      "\n",
      " [[ 7  8  9]\n",
      "  [10 11 12]]]\n"
     ]
    }
   ],
   "source": [
    "print(np.stack((a,b)))"
   ]
  },
  {
   "cell_type": "code",
   "execution_count": 166,
   "id": "cdcd95e7-85cd-4701-b05d-1b74fb75b7c5",
   "metadata": {},
   "outputs": [
    {
     "name": "stdout",
     "output_type": "stream",
     "text": [
      "[[ 0  1  2]\n",
      " [ 3  4  5]\n",
      " [ 7  8  9]\n",
      " [10 11 12]]\n"
     ]
    }
   ],
   "source": [
    "print(np.vstack((a,b)))"
   ]
  },
  {
   "cell_type": "code",
   "execution_count": 167,
   "id": "19bbaaa5-4603-49d8-be96-5388b178c87a",
   "metadata": {},
   "outputs": [
    {
     "name": "stdout",
     "output_type": "stream",
     "text": [
      "[[ 0  1  2  7  8  9]\n",
      " [ 3  4  5 10 11 12]]\n"
     ]
    }
   ],
   "source": [
    "print(np.hstack((a,b)))"
   ]
  },
  {
   "cell_type": "code",
   "execution_count": 168,
   "id": "6be1e34c-118a-46cd-afe7-11571dc230ea",
   "metadata": {},
   "outputs": [
    {
     "name": "stdout",
     "output_type": "stream",
     "text": [
      "[[[ 0  7]\n",
      "  [ 1  8]\n",
      "  [ 2  9]]\n",
      "\n",
      " [[ 3 10]\n",
      "  [ 4 11]\n",
      "  [ 5 12]]]\n"
     ]
    }
   ],
   "source": [
    "print(np.dstack((a,b)))"
   ]
  },
  {
   "cell_type": "markdown",
   "id": "7176ee96-f6ec-4fa5-97da-b8f6ebd5fc10",
   "metadata": {},
   "source": [
    "# 10.Splitting Array:-"
   ]
  },
  {
   "cell_type": "code",
   "execution_count": 2,
   "id": "028551be-d3d0-478b-a03f-d9f20f0d6250",
   "metadata": {},
   "outputs": [],
   "source": [
    "import numpy as np"
   ]
  },
  {
   "cell_type": "code",
   "execution_count": 3,
   "id": "7c97ef84-cf0f-4ccf-b965-1ea4906384fa",
   "metadata": {},
   "outputs": [
    {
     "name": "stdout",
     "output_type": "stream",
     "text": [
      "[0 1 2 3 4 5]\n"
     ]
    }
   ],
   "source": [
    "a=np.arange(6)\n",
    "print(a) "
   ]
  },
  {
   "cell_type": "code",
   "execution_count": 170,
   "id": "805617a2-3c32-47ba-9c87-0c05649c0606",
   "metadata": {},
   "outputs": [
    {
     "name": "stdout",
     "output_type": "stream",
     "text": [
      "[array([0, 1, 2]), array([3, 4, 5])]\n"
     ]
    }
   ],
   "source": [
    "print(np.split(a,2))"
   ]
  },
  {
   "cell_type": "code",
   "execution_count": 176,
   "id": "47e4fca4-ef4e-42dc-a9bc-af2287fe5dee",
   "metadata": {},
   "outputs": [],
   "source": [
    "#print(np.split(a,4))-------------- #ValueError"
   ]
  },
  {
   "cell_type": "code",
   "execution_count": 175,
   "id": "ac3fa226-9ca7-44e9-b4c3-47c28414129f",
   "metadata": {},
   "outputs": [
    {
     "name": "stdout",
     "output_type": "stream",
     "text": [
      "[array([0, 1]), array([2, 3]), array([4]), array([5])]\n"
     ]
    }
   ],
   "source": [
    "print(np.array_split(a,4))"
   ]
  },
  {
   "cell_type": "code",
   "execution_count": 4,
   "id": "c5da481d-2e64-4d38-be42-8cfd911685ab",
   "metadata": {},
   "outputs": [
    {
     "name": "stdout",
     "output_type": "stream",
     "text": [
      "[array([0, 1, 2]), array([3, 4, 5])]\n"
     ]
    }
   ],
   "source": [
    "print(np.hsplit(a,2))"
   ]
  },
  {
   "cell_type": "code",
   "execution_count": 7,
   "id": "d36e8c31-6f00-4d45-9775-050ae23c26be",
   "metadata": {},
   "outputs": [],
   "source": [
    "#print(np.vsplit(a,2))   ----   vsplit only works on arrays of 2 or more dimensions\n"
   ]
  },
  {
   "cell_type": "code",
   "execution_count": 13,
   "id": "bdf039df-03cd-464a-af27-472d525a901e",
   "metadata": {},
   "outputs": [
    {
     "name": "stdout",
     "output_type": "stream",
     "text": [
      "[array([[7, 2, 6]]), array([[3, 5, 1]])]\n"
     ]
    }
   ],
   "source": [
    "x=np.array([[7,2,6],[3,5,1]])\n",
    "#print(np.hsplit(x,2))      ------- ValueError\n",
    "print(np.vsplit(x,2))"
   ]
  },
  {
   "cell_type": "markdown",
   "id": "e3ccfe15-3130-411c-93ae-19772b5b0281",
   "metadata": {},
   "source": [
    "# 11.Searching:-"
   ]
  },
  {
   "cell_type": "code",
   "execution_count": 2,
   "id": "6f994633-dca0-4590-bb6d-6fadae550535",
   "metadata": {},
   "outputs": [
    {
     "name": "stdout",
     "output_type": "stream",
     "text": [
      "[10 20 30 40 50 60 70 80 90]\n"
     ]
    }
   ],
   "source": [
    "import numpy as np\n",
    "a=np.arange(10,100,10)\n",
    "print(a)"
   ]
  },
  {
   "cell_type": "code",
   "execution_count": 3,
   "id": "bd45da16-6a5d-4888-988c-87c6f0c0bc8e",
   "metadata": {},
   "outputs": [
    {
     "name": "stdout",
     "output_type": "stream",
     "text": [
      "(array([2], dtype=int64),)\n",
      "(array([2, 5, 8], dtype=int64),)\n"
     ]
    }
   ],
   "source": [
    "print(np.where(a==30))\n",
    "print(np.where(a%30==0))"
   ]
  },
  {
   "cell_type": "code",
   "execution_count": 4,
   "id": "3b3a2a10-d4bf-44b4-a09b-013ab7abdc41",
   "metadata": {},
   "outputs": [
    {
     "name": "stdout",
     "output_type": "stream",
     "text": [
      "2\n"
     ]
    }
   ],
   "source": [
    "b=[10,20,30,40]\n",
    "print(np.searchsorted(a,25))"
   ]
  },
  {
   "cell_type": "code",
   "execution_count": 7,
   "id": "eaf0cd27-f9f3-47ea-af37-a8a0251339aa",
   "metadata": {},
   "outputs": [
    {
     "name": "stdout",
     "output_type": "stream",
     "text": [
      "[2 3 4]\n"
     ]
    }
   ],
   "source": [
    "c=[10,20,30,40,50]\n",
    "print(np.searchsorted(a,[25,35,45]))    #it will search individually"
   ]
  },
  {
   "cell_type": "markdown",
   "id": "b9d2648c-cac5-4186-b346-b402817f4b9a",
   "metadata": {},
   "source": [
    "## 12. Sort():-"
   ]
  },
  {
   "cell_type": "code",
   "execution_count": 14,
   "id": "4a485770-12f3-49ef-8b5e-f714444e8c23",
   "metadata": {},
   "outputs": [
    {
     "name": "stdout",
     "output_type": "stream",
     "text": [
      "[10 20 30 40 50]\n"
     ]
    }
   ],
   "source": [
    "a=np.array([20,30,40,10,50])\n",
    "print(np.sort(a))"
   ]
  },
  {
   "cell_type": "code",
   "execution_count": 24,
   "id": "806cd616-f5ed-46b4-b93a-af4872e2ad15",
   "metadata": {},
   "outputs": [
    {
     "name": "stdout",
     "output_type": "stream",
     "text": [
      "[[10 20 50]\n",
      " [40 60 80]]\n"
     ]
    }
   ],
   "source": [
    "b=np.array([[20,10,50],[60,80,40]])\n",
    "print(np.sort(b))   "
   ]
  },
  {
   "cell_type": "code",
   "execution_count": 25,
   "id": "b1fe0040-51cb-4f71-9ef6-a7cd869f777c",
   "metadata": {},
   "outputs": [
    {
     "name": "stdout",
     "output_type": "stream",
     "text": [
      "[[20 10 40]\n",
      " [60 80 50]]\n"
     ]
    }
   ],
   "source": [
    "b=np.array([[20,10,50],[60,80,40]])\n",
    "print(np.sort(b,axis=0))"
   ]
  },
  {
   "cell_type": "code",
   "execution_count": 36,
   "id": "e8d90fa3-1fe1-4a87-97ae-b6510fbb5ad4",
   "metadata": {},
   "outputs": [
    {
     "name": "stdout",
     "output_type": "stream",
     "text": [
      "[(b'pqr', 45.67) (b'abc', 78.45) (b'xyz', 90.33)]\n"
     ]
    }
   ],
   "source": [
    "c=np.dtype([('name','S10'),('Perc',float)])\n",
    "students=np.array([('abc',78.45),('xyz',90.33),('pqr',45.67)],dtype=c)\n",
    "print(np.sort(students,order='Perc'))"
   ]
  },
  {
   "cell_type": "code",
   "execution_count": 37,
   "id": "aa4c1576-8b05-4e6e-b6d7-3588fed328ba",
   "metadata": {},
   "outputs": [
    {
     "name": "stdout",
     "output_type": "stream",
     "text": [
      "[(b'abc', 78.45) (b'pqr', 45.67) (b'xyz', 90.33)]\n"
     ]
    }
   ],
   "source": [
    "c=np.dtype([('name','S10'),('Perc',float)])\n",
    "students=np.array([('abc',78.45),('xyz',90.33),('pqr',45.67)],dtype=c)\n",
    "print(np.sort(students,order='name'))"
   ]
  },
  {
   "cell_type": "code",
   "execution_count": 5,
   "id": "1a346c5f-c24c-4da1-b90e-9783c3d8a2d9",
   "metadata": {},
   "outputs": [
    {
     "ename": "TypeError",
     "evalue": "sort() got an unexpected keyword argument 'king'",
     "output_type": "error",
     "traceback": [
      "\u001b[1;31m---------------------------------------------------------------------------\u001b[0m",
      "\u001b[1;31mTypeError\u001b[0m                                 Traceback (most recent call last)",
      "Cell \u001b[1;32mIn[5], line 4\u001b[0m\n\u001b[0;32m      2\u001b[0m c\u001b[38;5;241m=\u001b[39mnp\u001b[38;5;241m.\u001b[39mdtype([(\u001b[38;5;124m'\u001b[39m\u001b[38;5;124mname\u001b[39m\u001b[38;5;124m'\u001b[39m,\u001b[38;5;124m'\u001b[39m\u001b[38;5;124mS10\u001b[39m\u001b[38;5;124m'\u001b[39m),(\u001b[38;5;124m'\u001b[39m\u001b[38;5;124mPerc\u001b[39m\u001b[38;5;124m'\u001b[39m,\u001b[38;5;28mfloat\u001b[39m)])\n\u001b[0;32m      3\u001b[0m students\u001b[38;5;241m=\u001b[39mnp\u001b[38;5;241m.\u001b[39marray([(\u001b[38;5;124m'\u001b[39m\u001b[38;5;124mabc\u001b[39m\u001b[38;5;124m'\u001b[39m,\u001b[38;5;241m78.45\u001b[39m),(\u001b[38;5;124m'\u001b[39m\u001b[38;5;124mxyz\u001b[39m\u001b[38;5;124m'\u001b[39m,\u001b[38;5;241m90.33\u001b[39m),(\u001b[38;5;124m'\u001b[39m\u001b[38;5;124mpqr\u001b[39m\u001b[38;5;124m'\u001b[39m,\u001b[38;5;241m45.67\u001b[39m)],dtype\u001b[38;5;241m=\u001b[39mc)\n\u001b[1;32m----> 4\u001b[0m \u001b[38;5;28mprint\u001b[39m(\u001b[43mnp\u001b[49m\u001b[38;5;241;43m.\u001b[39;49m\u001b[43msort\u001b[49m\u001b[43m(\u001b[49m\u001b[43mstudents\u001b[49m\u001b[43m,\u001b[49m\u001b[43mking\u001b[49m\u001b[38;5;241;43m=\u001b[39;49m\u001b[38;5;124;43m'\u001b[39;49m\u001b[38;5;124;43mmerge\u001b[39;49m\u001b[38;5;124;43m'\u001b[39;49m\u001b[43m,\u001b[49m\u001b[43morder\u001b[49m\u001b[38;5;241;43m=\u001b[39;49m\u001b[38;5;124;43m'\u001b[39;49m\u001b[38;5;124;43mPerc\u001b[39;49m\u001b[38;5;124;43m'\u001b[39;49m\u001b[43m)\u001b[49m)\n",
      "\u001b[1;31mTypeError\u001b[0m: sort() got an unexpected keyword argument 'king'"
     ]
    }
   ],
   "source": [
    "import numpy as np\n",
    "c=np.dtype([('name','S10'),('Perc',float)])\n",
    "students=np.array([('abc',78.45),('xyz',90.33),('pqr',45.67)],dtype=c)\n",
    "print(np.sort(students,king='merge',order='Perc'))"
   ]
  },
  {
   "cell_type": "markdown",
   "id": "906df1d4-5dd0-41ea-8880-a89f9f787c72",
   "metadata": {},
   "source": [
    "## 13.Arithmetic Operation:-"
   ]
  },
  {
   "cell_type": "code",
   "execution_count": 7,
   "id": "c53bf209-165b-4f37-b760-2aa737695bf4",
   "metadata": {},
   "outputs": [
    {
     "name": "stdout",
     "output_type": "stream",
     "text": [
      "[[1 2 3]\n",
      " [4 5 6]\n",
      " [7 8 9]] [[1 1 1]\n",
      " [1 1 1]\n",
      " [1 1 1]]\n"
     ]
    }
   ],
   "source": [
    "import numpy as np\n",
    "a=np.array([[1,2,3,],[4,5,6],[7,8,9]])\n",
    "b=np.array([[1,1,1],[1,1,1],[1,1,1]])\n",
    "print(a,b)"
   ]
  },
  {
   "cell_type": "code",
   "execution_count": 8,
   "id": "de45eee1-b719-49a4-8278-e5061171a592",
   "metadata": {},
   "outputs": [
    {
     "name": "stdout",
     "output_type": "stream",
     "text": [
      "(3, 3)\n",
      "(3, 3)\n"
     ]
    }
   ],
   "source": [
    "print(np.shape(a))\n",
    "print(np.shape(b))"
   ]
  },
  {
   "cell_type": "code",
   "execution_count": 9,
   "id": "15e5e873-c773-4083-b8e7-1668870fa0b7",
   "metadata": {},
   "outputs": [
    {
     "name": "stdout",
     "output_type": "stream",
     "text": [
      "[[ 2  3  4]\n",
      " [ 5  6  7]\n",
      " [ 8  9 10]]\n"
     ]
    }
   ],
   "source": [
    "print(np.add(a,b))"
   ]
  },
  {
   "cell_type": "code",
   "execution_count": 10,
   "id": "1e6c9419-f86d-43b3-82d0-19ef5a337086",
   "metadata": {},
   "outputs": [
    {
     "name": "stdout",
     "output_type": "stream",
     "text": [
      "[[0 1 2]\n",
      " [3 4 5]\n",
      " [6 7 8]]\n"
     ]
    }
   ],
   "source": [
    "print(np.subtract(a,b))"
   ]
  },
  {
   "cell_type": "code",
   "execution_count": 11,
   "id": "f010e09f-42e5-48d4-aec7-1aed16e97e90",
   "metadata": {},
   "outputs": [
    {
     "name": "stdout",
     "output_type": "stream",
     "text": [
      "[4 5 6] (3,)\n"
     ]
    }
   ],
   "source": [
    "c=np.array([4,5,6])\n",
    "print(c,np.shape(c))"
   ]
  },
  {
   "cell_type": "code",
   "execution_count": 12,
   "id": "17d85aa0-94ca-4eaa-8b93-691160dc4470",
   "metadata": {},
   "outputs": [
    {
     "name": "stdout",
     "output_type": "stream",
     "text": [
      "[[ 5  7  9]\n",
      " [ 8 10 12]\n",
      " [11 13 15]]\n"
     ]
    }
   ],
   "source": [
    "print(np.add(a,c))"
   ]
  },
  {
   "cell_type": "code",
   "execution_count": 16,
   "id": "617a5311-d18c-4721-8a03-edf384cefb30",
   "metadata": {},
   "outputs": [
    {
     "name": "stdout",
     "output_type": "stream",
     "text": [
      "[10 11] (2,)\n"
     ]
    }
   ],
   "source": [
    "d=np.array([10,11])\n",
    "print(d,np.shape(d))\n",
    "#print(np.add(a,d)) -------ValueError: operands could not be broadcast together with shapes (3,3) (2,) "
   ]
  },
  {
   "cell_type": "code",
   "execution_count": 17,
   "id": "0592864e-8d6e-4cd2-8a15-ebc58a6c901b",
   "metadata": {},
   "outputs": [
    {
     "name": "stdout",
     "output_type": "stream",
     "text": [
      "(3, 2)\n"
     ]
    }
   ],
   "source": [
    "e=np.array([[10,11],[2,3],[7,5]])\n",
    "print(np.shape(e))"
   ]
  },
  {
   "cell_type": "code",
   "execution_count": 21,
   "id": "baa12d2c-af86-4cea-9e47-cff69bc0821b",
   "metadata": {},
   "outputs": [
    {
     "name": "stdout",
     "output_type": "stream",
     "text": [
      "[10] (1,)\n",
      "[[11 12 13]\n",
      " [14 15 16]\n",
      " [17 18 19]]\n"
     ]
    }
   ],
   "source": [
    "f=np.array([10])\n",
    "print(f,np.shape(f))\n",
    "print(np.add(a,f))"
   ]
  },
  {
   "cell_type": "code",
   "execution_count": 22,
   "id": "1afd7df8-3855-4524-8ee4-2398ba7bce5d",
   "metadata": {},
   "outputs": [
    {
     "name": "stdout",
     "output_type": "stream",
     "text": [
      "[[1. 2. 3.]\n",
      " [4. 5. 6.]\n",
      " [7. 8. 9.]]\n"
     ]
    }
   ],
   "source": [
    "print(np.divide(a,b))"
   ]
  },
  {
   "cell_type": "code",
   "execution_count": 23,
   "id": "4596e57c-6825-4c3a-8e1a-e59488dd5b11",
   "metadata": {},
   "outputs": [
    {
     "name": "stdout",
     "output_type": "stream",
     "text": [
      "[[1 2 3]\n",
      " [4 5 6]\n",
      " [7 8 9]]\n"
     ]
    }
   ],
   "source": [
    "print(np.mod(a,10))"
   ]
  },
  {
   "cell_type": "code",
   "execution_count": 24,
   "id": "4bde241a-a41c-4b02-a9a3-2152c6413ab6",
   "metadata": {},
   "outputs": [
    {
     "name": "stdout",
     "output_type": "stream",
     "text": [
      "[[1 0 0]\n",
      " [0 0 0]\n",
      " [0 0 0]]\n"
     ]
    }
   ],
   "source": [
    "print(np.reciprocal(a))"
   ]
  },
  {
   "cell_type": "code",
   "execution_count": 26,
   "id": "04ba1c67-2cf2-43ff-af7e-67b238ee6ecb",
   "metadata": {},
   "outputs": [
    {
     "name": "stdout",
     "output_type": "stream",
     "text": [
      "[2.         2.5        3.33333333]\n"
     ]
    }
   ],
   "source": [
    "f=np.array([0.5,0.4,0.3])\n",
    "print(np.reciprocal(f))"
   ]
  },
  {
   "cell_type": "code",
   "execution_count": 30,
   "id": "d55ff19e-a14f-4ead-b6e8-448a20ad5a04",
   "metadata": {},
   "outputs": [
    {
     "name": "stdout",
     "output_type": "stream",
     "text": [
      "[2. 4. 7.]\n",
      "[ 3. -1.  9.]\n",
      "[2.-3.j 4.+1.j 7.-9.j]\n"
     ]
    }
   ],
   "source": [
    "complex=np.array([2+3j,4-1j,7+9j])\n",
    "print(np.real(complex))\n",
    "print(np.imag(complex))\n",
    "print(np.conjugate(complex))"
   ]
  },
  {
   "cell_type": "markdown",
   "id": "f47be4ea-e2fc-4585-b4eb-170d9930452e",
   "metadata": {},
   "source": [
    "## 14.Statistically Functios:-"
   ]
  },
  {
   "cell_type": "code",
   "execution_count": 31,
   "id": "67f8c0ad-cd61-4e1d-8db6-d92e4f0aa75c",
   "metadata": {},
   "outputs": [],
   "source": [
    "import numpy as np"
   ]
  },
  {
   "cell_type": "code",
   "execution_count": 37,
   "id": "63108bda-99a4-46bd-af34-49e91052a961",
   "metadata": {},
   "outputs": [
    {
     "name": "stdout",
     "output_type": "stream",
     "text": [
      "2\n",
      "[4 3 2]\n",
      "[3 2]\n"
     ]
    }
   ],
   "source": [
    "a=np.array([[4,3,8],[9,6,2]])\n",
    "print(np.min(a))\n",
    "print(np.min(a,axis=0))\n",
    "print(np.min(a,axis=1))"
   ]
  },
  {
   "cell_type": "code",
   "execution_count": 39,
   "id": "2f289ce6-2a83-4b94-93ef-2a00e9d02e98",
   "metadata": {},
   "outputs": [
    {
     "name": "stdout",
     "output_type": "stream",
     "text": [
      "9\n",
      "5.333333333333333\n"
     ]
    }
   ],
   "source": [
    "print(np.max(a))\n",
    "print(np.average(a))"
   ]
  },
  {
   "cell_type": "code",
   "execution_count": 44,
   "id": "4b0d2c04-07c1-4b66-b54f-537d76a0b8cc",
   "metadata": {},
   "outputs": [
    {
     "name": "stdout",
     "output_type": "stream",
     "text": [
      "[5.66666667 4.5       ]\n"
     ]
    }
   ],
   "source": [
    "w=[1,2,3]\n",
    "print(np.average(a,weights=w,axis=1))"
   ]
  },
  {
   "cell_type": "code",
   "execution_count": null,
   "id": "5c9abb0d-212f-4eb0-95cc-5b3441f00964",
   "metadata": {},
   "outputs": [],
   "source": []
  }
 ],
 "metadata": {
  "kernelspec": {
   "display_name": "Python 3 (ipykernel)",
   "language": "python",
   "name": "python3"
  },
  "language_info": {
   "codemirror_mode": {
    "name": "ipython",
    "version": 3
   },
   "file_extension": ".py",
   "mimetype": "text/x-python",
   "name": "python",
   "nbconvert_exporter": "python",
   "pygments_lexer": "ipython3",
   "version": "3.12.1"
  }
 },
 "nbformat": 4,
 "nbformat_minor": 5
}
